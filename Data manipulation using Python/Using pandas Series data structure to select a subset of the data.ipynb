{
 "cells": [
  {
   "cell_type": "markdown",
   "metadata": {
    "slideshow": {
     "slide_type": "slide"
    }
   },
   "source": [
    "## Introduce our dataset"
   ]
  },
  {
   "cell_type": "markdown",
   "metadata": {
    "slideshow": {
     "slide_type": "fragment"
    }
   },
   "source": [
    "* Data from Zillow.com, a real estate marketplace.\n",
    "* A public and free to use dataset, after attribution.\n",
    "* Real dataset which lists mean prices of houses in various locations in US.\n",
    "* Dataset is a csv or a comma separated values text file.\n",
    "* Available here - https://www.zillow.com/research/data/"
   ]
  },
  {
   "cell_type": "markdown",
   "metadata": {
    "slideshow": {
     "slide_type": "slide"
    }
   },
   "source": [
    "## Import Pandas"
   ]
  },
  {
   "cell_type": "code",
   "execution_count": 1,
   "metadata": {
    "collapsed": true,
    "slideshow": {
     "slide_type": "fragment"
    }
   },
   "outputs": [],
   "source": [
    "import pandas as pd"
   ]
  },
  {
   "cell_type": "markdown",
   "metadata": {
    "slideshow": {
     "slide_type": "slide"
    }
   },
   "source": [
    "## Read in the dataset"
   ]
  },
  {
   "cell_type": "code",
   "execution_count": 2,
   "metadata": {
    "slideshow": {
     "slide_type": "fragment"
    }
   },
   "outputs": [],
   "source": [
    "data = pd.read_table('data-zillow.csv', sep=',')"
   ]
  },
  {
   "cell_type": "markdown",
   "metadata": {
    "slideshow": {
     "slide_type": "slide"
    }
   },
   "source": [
    "## View the dataset"
   ]
  },
  {
   "cell_type": "code",
   "execution_count": 14,
   "metadata": {
    "slideshow": {
     "slide_type": "fragment"
    }
   },
   "outputs": [
    {
     "data": {
      "text/html": [
       "<div>\n",
       "<table border=\"1\" class=\"dataframe\">\n",
       "  <thead>\n",
       "    <tr style=\"text-align: right;\">\n",
       "      <th></th>\n",
       "      <th>Date</th>\n",
       "      <th>RegionID</th>\n",
       "      <th>RegionName</th>\n",
       "      <th>State</th>\n",
       "      <th>Metro</th>\n",
       "      <th>County</th>\n",
       "      <th>SizeRank</th>\n",
       "      <th>Zhvi</th>\n",
       "    </tr>\n",
       "  </thead>\n",
       "  <tbody>\n",
       "    <tr>\n",
       "      <th>0</th>\n",
       "      <td>2017-05-31</td>\n",
       "      <td>6181</td>\n",
       "      <td>New York</td>\n",
       "      <td>NY</td>\n",
       "      <td>New York</td>\n",
       "      <td>Queens</td>\n",
       "      <td>0</td>\n",
       "      <td>672400</td>\n",
       "    </tr>\n",
       "    <tr>\n",
       "      <th>1</th>\n",
       "      <td>2017-05-31</td>\n",
       "      <td>12447</td>\n",
       "      <td>Los Angeles</td>\n",
       "      <td>CA</td>\n",
       "      <td>Los Angeles-Long Beach-Anaheim</td>\n",
       "      <td>Los Angeles</td>\n",
       "      <td>1</td>\n",
       "      <td>629900</td>\n",
       "    </tr>\n",
       "    <tr>\n",
       "      <th>2</th>\n",
       "      <td>2017-05-31</td>\n",
       "      <td>17426</td>\n",
       "      <td>Chicago</td>\n",
       "      <td>IL</td>\n",
       "      <td>Chicago</td>\n",
       "      <td>Cook</td>\n",
       "      <td>2</td>\n",
       "      <td>222700</td>\n",
       "    </tr>\n",
       "    <tr>\n",
       "      <th>3</th>\n",
       "      <td>2017-05-31</td>\n",
       "      <td>13271</td>\n",
       "      <td>Philadelphia</td>\n",
       "      <td>PA</td>\n",
       "      <td>Philadelphia</td>\n",
       "      <td>Philadelphia</td>\n",
       "      <td>3</td>\n",
       "      <td>137300</td>\n",
       "    </tr>\n",
       "    <tr>\n",
       "      <th>4</th>\n",
       "      <td>2017-05-31</td>\n",
       "      <td>40326</td>\n",
       "      <td>Phoenix</td>\n",
       "      <td>AZ</td>\n",
       "      <td>Phoenix</td>\n",
       "      <td>Maricopa</td>\n",
       "      <td>4</td>\n",
       "      <td>211300</td>\n",
       "    </tr>\n",
       "  </tbody>\n",
       "</table>\n",
       "</div>"
      ],
      "text/plain": [
       "         Date  RegionID    RegionName State                           Metro  \\\n",
       "0  2017-05-31      6181      New York    NY                        New York   \n",
       "1  2017-05-31     12447   Los Angeles    CA  Los Angeles-Long Beach-Anaheim   \n",
       "2  2017-05-31     17426       Chicago    IL                         Chicago   \n",
       "3  2017-05-31     13271  Philadelphia    PA                    Philadelphia   \n",
       "4  2017-05-31     40326       Phoenix    AZ                         Phoenix   \n",
       "\n",
       "         County  SizeRank    Zhvi  \n",
       "0        Queens         0  672400  \n",
       "1   Los Angeles         1  629900  \n",
       "2          Cook         2  222700  \n",
       "3  Philadelphia         3  137300  \n",
       "4      Maricopa         4  211300  "
      ]
     },
     "execution_count": 14,
     "metadata": {},
     "output_type": "execute_result"
    }
   ],
   "source": [
    "data.head()"
   ]
  },
  {
   "cell_type": "markdown",
   "metadata": {
    "slideshow": {
     "slide_type": "slide"
    }
   },
   "source": [
    "# Select data"
   ]
  },
  {
   "cell_type": "markdown",
   "metadata": {
    "slideshow": {
     "slide_type": "slide"
    }
   },
   "source": [
    "### Select a Series with bracket notation"
   ]
  },
  {
   "cell_type": "code",
   "execution_count": 20,
   "metadata": {
    "slideshow": {
     "slide_type": "fragment"
    }
   },
   "outputs": [],
   "source": [
    "regions = data['RegionName']"
   ]
  },
  {
   "cell_type": "code",
   "execution_count": 21,
   "metadata": {
    "slideshow": {
     "slide_type": "fragment"
    }
   },
   "outputs": [
    {
     "data": {
      "text/plain": [
       "pandas.core.series.Series"
      ]
     },
     "execution_count": 21,
     "metadata": {},
     "output_type": "execute_result"
    }
   ],
   "source": [
    "type(regions)"
   ]
  },
  {
   "cell_type": "code",
   "execution_count": 22,
   "metadata": {
    "slideshow": {
     "slide_type": "fragment"
    }
   },
   "outputs": [
    {
     "data": {
      "text/plain": [
       "0                 New York\n",
       "1              Los Angeles\n",
       "2                  Chicago\n",
       "3             Philadelphia\n",
       "4                  Phoenix\n",
       "5                Las Vegas\n",
       "6                San Diego\n",
       "7                   Dallas\n",
       "8                 San Jose\n",
       "9             Jacksonville\n",
       "10           San Francisco\n",
       "11                  Austin\n",
       "12                 Detroit\n",
       "13                Columbus\n",
       "14                 Memphis\n",
       "15               Charlotte\n",
       "16                 El Paso\n",
       "17                  Boston\n",
       "18                 Seattle\n",
       "19               Baltimore\n",
       "20                  Denver\n",
       "21              Washington\n",
       "22               Nashville\n",
       "23               Milwaukee\n",
       "24                  Tucson\n",
       "25                Portland\n",
       "26           Oklahoma City\n",
       "27                   Omaha\n",
       "28             Albuquerque\n",
       "29                  Fresno\n",
       "               ...        \n",
       "10800         Mount Sidney\n",
       "10801          Cedar Grove\n",
       "10802                Clark\n",
       "10803            Daleville\n",
       "10804          Piney Point\n",
       "10805                 Almo\n",
       "10806           Bois D Arc\n",
       "10807              Tyaskin\n",
       "10808            Inverness\n",
       "10809               Otwell\n",
       "10810          Lake Hughes\n",
       "10811          Marble Hill\n",
       "10812                 Mead\n",
       "10813             Hesperus\n",
       "10814              Midland\n",
       "10815               Lavaca\n",
       "10816         Mays Landing\n",
       "10817        Stinson Beach\n",
       "10818     Upper Brookville\n",
       "10819              Decatur\n",
       "10820           Horse Shoe\n",
       "10821               Laotto\n",
       "10822            Goldsboro\n",
       "10823            Phoenicia\n",
       "10824                Jones\n",
       "10825              Nehalem\n",
       "10826    Clear Lake Shores\n",
       "10827      Lebanon Borough\n",
       "10828              Henrico\n",
       "10829       East Hampstead\n",
       "Name: RegionName, dtype: object"
      ]
     },
     "execution_count": 22,
     "metadata": {},
     "output_type": "execute_result"
    }
   ],
   "source": [
    "regions"
   ]
  },
  {
   "cell_type": "markdown",
   "metadata": {
    "slideshow": {
     "slide_type": "slide"
    }
   },
   "source": [
    "## DataFrame vs Series"
   ]
  },
  {
   "cell_type": "markdown",
   "metadata": {
    "slideshow": {
     "slide_type": "slide"
    }
   },
   "source": [
    "## Multi Column Selection - Series or DataFrame"
   ]
  },
  {
   "cell_type": "code",
   "execution_count": 25,
   "metadata": {
    "slideshow": {
     "slide_type": "fragment"
    }
   },
   "outputs": [
    {
     "data": {
      "text/html": [
       "<div>\n",
       "<table border=\"1\" class=\"dataframe\">\n",
       "  <thead>\n",
       "    <tr style=\"text-align: right;\">\n",
       "      <th></th>\n",
       "      <th>RegionName</th>\n",
       "      <th>State</th>\n",
       "    </tr>\n",
       "  </thead>\n",
       "  <tbody>\n",
       "    <tr>\n",
       "      <th>0</th>\n",
       "      <td>New York</td>\n",
       "      <td>NY</td>\n",
       "    </tr>\n",
       "    <tr>\n",
       "      <th>1</th>\n",
       "      <td>Los Angeles</td>\n",
       "      <td>CA</td>\n",
       "    </tr>\n",
       "    <tr>\n",
       "      <th>2</th>\n",
       "      <td>Chicago</td>\n",
       "      <td>IL</td>\n",
       "    </tr>\n",
       "    <tr>\n",
       "      <th>3</th>\n",
       "      <td>Philadelphia</td>\n",
       "      <td>PA</td>\n",
       "    </tr>\n",
       "    <tr>\n",
       "      <th>4</th>\n",
       "      <td>Phoenix</td>\n",
       "      <td>AZ</td>\n",
       "    </tr>\n",
       "  </tbody>\n",
       "</table>\n",
       "</div>"
      ],
      "text/plain": [
       "     RegionName State\n",
       "0      New York    NY\n",
       "1   Los Angeles    CA\n",
       "2       Chicago    IL\n",
       "3  Philadelphia    PA\n",
       "4       Phoenix    AZ"
      ]
     },
     "execution_count": 25,
     "metadata": {},
     "output_type": "execute_result"
    }
   ],
   "source": [
    "region_n_state = data[['RegionName', 'State']]\n",
    "region_n_state.head()"
   ]
  },
  {
   "cell_type": "code",
   "execution_count": 26,
   "metadata": {
    "slideshow": {
     "slide_type": "fragment"
    }
   },
   "outputs": [
    {
     "data": {
      "text/plain": [
       "pandas.core.frame.DataFrame"
      ]
     },
     "execution_count": 26,
     "metadata": {},
     "output_type": "execute_result"
    }
   ],
   "source": [
    "type(region_n_state)"
   ]
  },
  {
   "cell_type": "markdown",
   "metadata": {
    "slideshow": {
     "slide_type": "slide"
    }
   },
   "source": [
    "## Select using dot notation"
   ]
  },
  {
   "cell_type": "code",
   "execution_count": 28,
   "metadata": {
    "slideshow": {
     "slide_type": "fragment"
    }
   },
   "outputs": [
    {
     "data": {
      "text/plain": [
       "0        NY\n",
       "1        CA\n",
       "2        IL\n",
       "3        PA\n",
       "4        AZ\n",
       "5        NV\n",
       "6        CA\n",
       "7        TX\n",
       "8        CA\n",
       "9        FL\n",
       "10       CA\n",
       "11       TX\n",
       "12       MI\n",
       "13       OH\n",
       "14       TN\n",
       "15       NC\n",
       "16       TX\n",
       "17       MA\n",
       "18       WA\n",
       "19       MD\n",
       "20       CO\n",
       "21       DC\n",
       "22       TN\n",
       "23       WI\n",
       "24       AZ\n",
       "25       OR\n",
       "26       OK\n",
       "27       NE\n",
       "28       NM\n",
       "29       CA\n",
       "         ..\n",
       "10800    VA\n",
       "10801    WV\n",
       "10802    CO\n",
       "10803    VA\n",
       "10804    MD\n",
       "10805    KY\n",
       "10806    MO\n",
       "10807    MD\n",
       "10808    CA\n",
       "10809    IN\n",
       "10810    CA\n",
       "10811    GA\n",
       "10812    CO\n",
       "10813    CO\n",
       "10814    GA\n",
       "10815    AR\n",
       "10816    NJ\n",
       "10817    CA\n",
       "10818    NY\n",
       "10819    AR\n",
       "10820    NC\n",
       "10821    IN\n",
       "10822    MD\n",
       "10823    NY\n",
       "10824    AL\n",
       "10825    OR\n",
       "10826    TX\n",
       "10827    NJ\n",
       "10828    VA\n",
       "10829    NH\n",
       "Name: State, dtype: object"
      ]
     },
     "execution_count": 28,
     "metadata": {},
     "output_type": "execute_result"
    }
   ],
   "source": [
    "data.State"
   ]
  },
  {
   "cell_type": "markdown",
   "metadata": {
    "slideshow": {
     "slide_type": "slide"
    }
   },
   "source": [
    "## Creating a new series by selection"
   ]
  },
  {
   "cell_type": "code",
   "execution_count": 29,
   "metadata": {
    "collapsed": true,
    "slideshow": {
     "slide_type": "fragment"
    }
   },
   "outputs": [],
   "source": [
    "data['Address'] = data.County + ', ' + data.Metro + ', ' + data.State"
   ]
  },
  {
   "cell_type": "code",
   "execution_count": 31,
   "metadata": {
    "slideshow": {
     "slide_type": "fragment"
    }
   },
   "outputs": [
    {
     "data": {
      "text/plain": [
       "0                                   Queens, New York, NY\n",
       "1        Los Angeles, Los Angeles-Long Beach-Anaheim, CA\n",
       "2                                      Cook, Chicago, IL\n",
       "3                         Philadelphia, Philadelphia, PA\n",
       "4                                  Maricopa, Phoenix, AZ\n",
       "5                                   Clark, Las Vegas, NV\n",
       "6                               San Diego, San Diego, CA\n",
       "7                          Dallas, Dallas-Fort Worth, TX\n",
       "8                              Santa Clara, San Jose, CA\n",
       "9                                Duval, Jacksonville, FL\n",
       "10                      San Francisco, San Francisco, CA\n",
       "11                                    Travis, Austin, TX\n",
       "12                                    Wayne, Detroit, MI\n",
       "13                                Franklin, Columbus, OH\n",
       "14                                   Shelby, Memphis, TN\n",
       "15                            Mecklenburg, Charlotte, NC\n",
       "16                                  El Paso, El Paso, TX\n",
       "17                                   Suffolk, Boston, MA\n",
       "18                                     King, Seattle, WA\n",
       "19                         Baltimore City, Baltimore, MD\n",
       "20                                    Denver, Denver, CO\n",
       "21                  District of Columbia, Washington, DC\n",
       "22                               Davidson, Nashville, TN\n",
       "23                              Milwaukee, Milwaukee, WI\n",
       "24                                      Pima, Tucson, AZ\n",
       "25                               Multnomah, Portland, OR\n",
       "26                           Oklahoma, Oklahoma City, OK\n",
       "27                                    Douglas, Omaha, NE\n",
       "28                           Bernalillo, Albuquerque, NM\n",
       "29                                    Fresno, Fresno, CA\n",
       "                              ...                       \n",
       "10800                              Augusta, Staunton, VA\n",
       "10801                            Kanawha, Charleston, WV\n",
       "10802                       Routt, Steamboat Springs, CO\n",
       "10803                             Botetourt, Roanoke, VA\n",
       "10804         Saint Marys, California-Lexington Park, MD\n",
       "10805                               Calloway, Murray, KY\n",
       "10806                            Greene, Springfield, MO\n",
       "10807                            Wicomico, Salisbury, MD\n",
       "10808                           Marin, San Francisco, CA\n",
       "10809                                   Pike, Jasper, IN\n",
       "10810    Los Angeles, Los Angeles-Long Beach-Anaheim, CA\n",
       "10811                                Dawson, Atlanta, GA\n",
       "10812                                  Weld, Greeley, CO\n",
       "10813                              La Plata, Durango, CO\n",
       "10814                             Muscogee, Columbus, GA\n",
       "10815                          Sebastian, Fort Smith, AR\n",
       "10816                        Atlantic, Atlantic City, NJ\n",
       "10817                           Marin, San Francisco, CA\n",
       "10818                               Nassau, New York, NY\n",
       "10819                           Benton, Fayetteville, AR\n",
       "10820                           Henderson, Asheville, NC\n",
       "10821                            Noble, Kendallville, IN\n",
       "10822                                                NaN\n",
       "10823                               Ulster, Kingston, NY\n",
       "10824                            Autauga, Montgomery, AL\n",
       "10825                                                NaN\n",
       "10826                             Galveston, Houston, TX\n",
       "10827                            Hunterdon, New York, NJ\n",
       "10828                              Henrico, Richmond, VA\n",
       "10829                             Rockingham, Boston, NH\n",
       "Name: Address, dtype: object"
      ]
     },
     "execution_count": 31,
     "metadata": {},
     "output_type": "execute_result"
    }
   ],
   "source": [
    "data.Address"
   ]
  },
  {
   "cell_type": "code",
   "execution_count": null,
   "metadata": {
    "collapsed": true,
    "slideshow": {
     "slide_type": "skip"
    }
   },
   "outputs": [],
   "source": []
  }
 ],
 "metadata": {
  "celltoolbar": "Slideshow",
  "kernelspec": {
   "display_name": "Python 3 (ipykernel)",
   "language": "python",
   "name": "python3"
  },
  "language_info": {
   "codemirror_mode": {
    "name": "ipython",
    "version": 3
   },
   "file_extension": ".py",
   "mimetype": "text/x-python",
   "name": "python",
   "nbconvert_exporter": "python",
   "pygments_lexer": "ipython3",
   "version": "3.9.12"
  }
 },
 "nbformat": 4,
 "nbformat_minor": 2
}
